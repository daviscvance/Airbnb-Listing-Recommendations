{
 "cells": [
  {
   "cell_type": "markdown",
   "metadata": {},
   "source": [
    "# Tableau data\n",
    "\n",
    "### NYC Lat Long data for plotting\n",
    "\n",
    "This notebook is quick and dirty! Just preparing data for tableau visualization"
   ]
  },
  {
   "cell_type": "code",
   "execution_count": 1,
   "metadata": {
    "ExecuteTime": {
     "end_time": "2018-04-04T16:21:15.784862Z",
     "start_time": "2018-04-04T16:21:15.184490Z"
    }
   },
   "outputs": [
    {
     "name": "stdout",
     "output_type": "stream",
     "text": [
      "<class 'pandas.core.frame.DataFrame'>\n",
      "RangeIndex: 48852 entries, 0 to 48851\n",
      "Data columns (total 12 columns):\n",
      "id               48852 non-null int64\n",
      "neighborhood     48852 non-null object\n",
      "price            48852 non-null object\n",
      "city             48791 non-null object\n",
      "state            48851 non-null object\n",
      "zipcode          48172 non-null object\n",
      "accommodates     48852 non-null int64\n",
      "latitude         48852 non-null float64\n",
      "longitude        48852 non-null float64\n",
      "superhost        48746 non-null object\n",
      "property_type    48852 non-null object\n",
      "business         48852 non-null object\n",
      "dtypes: float64(2), int64(2), object(8)\n",
      "memory usage: 4.5+ MB\n"
     ]
    }
   ],
   "source": [
    "import pandas as pd\n",
    "import numpy as np\n",
    "import matplotlib.pyplot as plt\n",
    "%matplotlib inline\n",
    "\n",
    "df = pd.read_csv('data/newyork/NYClatlong.csv').iloc[:,1:]\n",
    "df.rename({'neighbourhood_cleansed': 'neighborhood', \n",
    "           'host_is_superhost': 'superhost',\n",
    "           'is_business_travel_ready': 'business'\n",
    "          }, axis='columns', inplace=True)\n",
    "df.info()"
   ]
  },
  {
   "cell_type": "code",
   "execution_count": 2,
   "metadata": {
    "ExecuteTime": {
     "end_time": "2018-04-04T16:21:18.253302Z",
     "start_time": "2018-04-04T16:21:18.151687Z"
    }
   },
   "outputs": [],
   "source": [
    "def str2bool(x):\n",
    "    return str(x).lower() == 't'\n",
    "\n",
    "df['superhost'] = df.superhost.apply(str2bool)\n",
    "df['business'] = df.business.apply(str2bool)\n",
    "\n",
    "\n",
    "def clean_price(x):\n",
    "    y = x.split('.')[0] \\\n",
    "         .replace('$', '') \\\n",
    "         .replace(',', '') \n",
    "    return y\n",
    "\n",
    "df['price'] = df.price.apply(clean_price).astype('uint16')"
   ]
  },
  {
   "cell_type": "code",
   "execution_count": 3,
   "metadata": {
    "ExecuteTime": {
     "end_time": "2018-04-04T16:21:18.577615Z",
     "start_time": "2018-04-04T16:21:18.542673Z"
    }
   },
   "outputs": [],
   "source": [
    "df['price_p_person'] = round(df.price / df.accommodates, 2)"
   ]
  },
  {
   "cell_type": "code",
   "execution_count": 4,
   "metadata": {
    "ExecuteTime": {
     "end_time": "2018-04-04T16:21:19.167220Z",
     "start_time": "2018-04-04T16:21:18.851384Z"
    }
   },
   "outputs": [
    {
     "data": {
      "text/plain": [
       "count    48852.000000\n",
       "mean       144.317428\n",
       "std        212.492765\n",
       "min          0.000000\n",
       "0%           0.000000\n",
       "10%         48.000000\n",
       "20%         60.000000\n",
       "30.0%       73.000000\n",
       "40%         88.000000\n",
       "50%        100.000000\n",
       "60.0%      125.000000\n",
       "70%        150.000000\n",
       "80%        190.000000\n",
       "90%        250.000000\n",
       "max      10000.000000\n",
       "Name: price, dtype: float64"
      ]
     },
     "execution_count": 4,
     "metadata": {},
     "output_type": "execute_result"
    },
    {
     "data": {
      "image/png": "[encoded data removed]",
      "text/plain": [
       "<matplotlib.figure.Figure at 0x104ea59b0>"
      ]
     },
     "metadata": {},
     "output_type": "display_data"
    }
   ],
   "source": [
    "df.price[(df.price < 1000)].plot(kind='hist', bins=40)\n",
    "df.price.describe(percentiles=list(np.arange(0,1,.1)))"
   ]
  },
  {
   "cell_type": "code",
   "execution_count": 5,
   "metadata": {
    "ExecuteTime": {
     "end_time": "2018-04-04T16:21:19.874163Z",
     "start_time": "2018-04-04T16:21:19.614929Z"
    }
   },
   "outputs": [
    {
     "data": {
      "text/plain": [
       "count    48852.000000\n",
       "mean        56.298610\n",
       "std         97.370615\n",
       "min          0.000000\n",
       "0%           0.000000\n",
       "10%         22.500000\n",
       "20%         28.330000\n",
       "30.0%       33.330000\n",
       "40%         39.500000\n",
       "50%         45.000000\n",
       "60.0%       50.000000\n",
       "70%         60.000000\n",
       "80%         73.330000\n",
       "90%         95.000000\n",
       "max      10000.000000\n",
       "Name: price_p_person, dtype: float64"
      ]
     },
     "execution_count": 5,
     "metadata": {},
     "output_type": "execute_result"
    },
    {
     "data": {
      "image/png": "[encoded data removed]",
      "text/plain": [
       "<matplotlib.figure.Figure at 0x10abddfd0>"
      ]
     },
     "metadata": {},
     "output_type": "display_data"
    }
   ],
   "source": [
    "df.price_p_person[(df.price_p_person < 250)].plot(kind='hist', bins=35)\n",
    "df.price_p_person.describe(percentiles=list(np.arange(0,1,.1)))"
   ]
  },
  {
   "cell_type": "code",
   "execution_count": 6,
   "metadata": {
    "ExecuteTime": {
     "end_time": "2018-04-04T16:21:20.625340Z",
     "start_time": "2018-04-04T16:21:20.599919Z"
    }
   },
   "outputs": [
    {
     "name": "stderr",
     "output_type": "stream",
     "text": [
      "/Users/user/Desktop/anaconda/lib/python3.6/site-packages/pandas/core/groupby.py:4291: FutureWarning: using a dict with renaming is deprecated and will be removed in a future version\n",
      "  return super(DataFrameGroupBy, self).aggregate(arg, *args, **kwargs)\n"
     ]
    }
   ],
   "source": [
    "columns = ['price','superhost','business','price_p_person','latitude','longitude']\n",
    "aggs = df.groupby('neighborhood')[columns].agg({'average':'mean', 'count':'count'})\n",
    "aggs.columns = aggs.columns.get_level_values(1)"
   ]
  },
  {
   "cell_type": "code",
   "execution_count": 7,
   "metadata": {
    "ExecuteTime": {
     "end_time": "2018-04-04T16:21:21.327228Z",
     "start_time": "2018-04-04T16:21:21.318602Z"
    }
   },
   "outputs": [],
   "source": [
    "colnames = {'price':'avg_price','superhost':'avg_superhost',\n",
    "            'business':'avg_business','price_p_person':'avg_price_p_person',\n",
    "            'latitude':'avg_lat','longitude':'avg_long'}\n",
    "aggs = aggs.reset_index().iloc[:,:8].rename(colnames, axis='columns')\n",
    "aggs['count'] = aggs.iloc[:,-1]"
   ]
  },
  {
   "cell_type": "code",
   "execution_count": 8,
   "metadata": {
    "ExecuteTime": {
     "end_time": "2018-04-04T16:21:21.804768Z",
     "start_time": "2018-04-04T16:21:21.743579Z"
    }
   },
   "outputs": [
    {
     "data": {
      "text/html": [
       "<div>\n",
       "<style scoped>\n",
       "    .dataframe tbody tr th:only-of-type {\n",
       "        vertical-align: middle;\n",
       "    }\n",
       "\n",
       "    .dataframe tbody tr th {\n",
       "        vertical-align: top;\n",
       "    }\n",
       "\n",
       "    .dataframe thead th {\n",
       "        text-align: right;\n",
       "    }\n",
       "</style>\n",
       "<table border=\"1\" class=\"dataframe\">\n",
       "  <thead>\n",
       "    <tr style=\"text-align: right;\">\n",
       "      <th></th>\n",
       "      <th>id</th>\n",
       "      <th>neighborhood</th>\n",
       "      <th>price</th>\n",
       "      <th>city</th>\n",
       "      <th>state</th>\n",
       "      <th>zipcode</th>\n",
       "      <th>accommodates</th>\n",
       "      <th>latitude</th>\n",
       "      <th>longitude</th>\n",
       "      <th>superhost</th>\n",
       "      <th>property_type</th>\n",
       "      <th>business</th>\n",
       "      <th>price_p_person</th>\n",
       "      <th>avg_price</th>\n",
       "      <th>avg_superhost</th>\n",
       "      <th>avg_business</th>\n",
       "      <th>avg_price_p_person</th>\n",
       "      <th>avg_lat</th>\n",
       "      <th>avg_long</th>\n",
       "      <th>count</th>\n",
       "    </tr>\n",
       "  </thead>\n",
       "  <tbody>\n",
       "    <tr>\n",
       "      <th>0</th>\n",
       "      <td>2515</td>\n",
       "      <td>Harlem</td>\n",
       "      <td>59</td>\n",
       "      <td>New York</td>\n",
       "      <td>NY</td>\n",
       "      <td>10026</td>\n",
       "      <td>2</td>\n",
       "      <td>40.799205</td>\n",
       "      <td>-73.953676</td>\n",
       "      <td>False</td>\n",
       "      <td>Apartment</td>\n",
       "      <td>False</td>\n",
       "      <td>29.50</td>\n",
       "      <td>113.246533</td>\n",
       "      <td>0.158460</td>\n",
       "      <td>0.044383</td>\n",
       "      <td>45.265728</td>\n",
       "      <td>40.816065</td>\n",
       "      <td>-73.948108</td>\n",
       "      <td>2884</td>\n",
       "    </tr>\n",
       "    <tr>\n",
       "      <th>1</th>\n",
       "      <td>2539</td>\n",
       "      <td>Kensington</td>\n",
       "      <td>39</td>\n",
       "      <td>Brooklyn</td>\n",
       "      <td>NY</td>\n",
       "      <td>11218</td>\n",
       "      <td>4</td>\n",
       "      <td>40.647486</td>\n",
       "      <td>-73.972370</td>\n",
       "      <td>True</td>\n",
       "      <td>Apartment</td>\n",
       "      <td>False</td>\n",
       "      <td>9.75</td>\n",
       "      <td>84.391813</td>\n",
       "      <td>0.087719</td>\n",
       "      <td>0.011696</td>\n",
       "      <td>36.043041</td>\n",
       "      <td>40.641638</td>\n",
       "      <td>-73.975724</td>\n",
       "      <td>171</td>\n",
       "    </tr>\n",
       "  </tbody>\n",
       "</table>\n",
       "</div>"
      ],
      "text/plain": [
       "     id neighborhood  price       city state zipcode  accommodates   latitude  \\\n",
       "0  2515       Harlem     59   New York    NY   10026             2  40.799205   \n",
       "1  2539   Kensington     39  Brooklyn     NY   11218             4  40.647486   \n",
       "\n",
       "   longitude  superhost property_type  business  price_p_person   avg_price  \\\n",
       "0 -73.953676      False     Apartment     False           29.50  113.246533   \n",
       "1 -73.972370       True     Apartment     False            9.75   84.391813   \n",
       "\n",
       "   avg_superhost  avg_business  avg_price_p_person    avg_lat   avg_long  \\\n",
       "0       0.158460      0.044383           45.265728  40.816065 -73.948108   \n",
       "1       0.087719      0.011696           36.043041  40.641638 -73.975724   \n",
       "\n",
       "   count  \n",
       "0   2884  \n",
       "1    171  "
      ]
     },
     "execution_count": 8,
     "metadata": {},
     "output_type": "execute_result"
    }
   ],
   "source": [
    "data = pd.merge(df, aggs, how='left', on='neighborhood')\n",
    "cnt = data.iloc[:, -1]\n",
    "data = data.iloc[:, :19]\n",
    "data['count'] = cnt\n",
    "data.head(2)"
   ]
  },
  {
   "cell_type": "code",
   "execution_count": 11,
   "metadata": {
    "ExecuteTime": {
     "end_time": "2018-04-04T16:22:15.126896Z",
     "start_time": "2018-04-04T16:22:13.980345Z"
    }
   },
   "outputs": [],
   "source": [
    "data.to_csv('data/clean_latlong.csv')"
   ]
  },
  {
   "cell_type": "code",
   "execution_count": null,
   "metadata": {},
   "outputs": [],
   "source": []
  },
  {
   "cell_type": "code",
   "execution_count": null,
   "metadata": {},
   "outputs": [],
   "source": []
  },
  {
   "cell_type": "code",
   "execution_count": null,
   "metadata": {},
   "outputs": [],
   "source": []
  }
 ],
 "metadata": {
  "kernelspec": {
   "display_name": "Python 3",
   "language": "python",
   "name": "python3"
  },
  "language_info": {
   "codemirror_mode": {
    "name": "ipython",
    "version": 3
   },
   "file_extension": ".py",
   "mimetype": "text/x-python",
   "name": "python",
   "nbconvert_exporter": "python",
   "pygments_lexer": "ipython3",
   "version": "3.6.4"
  },
  "toc": {
   "nav_menu": {},
   "number_sections": true,
   "sideBar": true,
   "skip_h1_title": false,
   "title_cell": "Table of Contents",
   "title_sidebar": "Contents",
   "toc_cell": false,
   "toc_position": {},
   "toc_section_display": true,
   "toc_window_display": false
  }
 },
 "nbformat": 4,
 "nbformat_minor": 2
}
